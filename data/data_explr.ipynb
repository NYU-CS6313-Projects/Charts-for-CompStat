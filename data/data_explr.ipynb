{
 "metadata": {
  "name": "",
  "signature": "sha256:97d54cbfa35d4317118eb6ef5bfbcd4d7dcaf00ada16bfd357b1ea34797ce0c1"
 },
 "nbformat": 3,
 "nbformat_minor": 0,
 "worksheets": [
  {
   "cells": [
    {
     "cell_type": "markdown",
     "metadata": {},
     "source": [
      "NYPD MOTOR VEHICLE COLLISIONS DATA"
     ]
    },
    {
     "cell_type": "markdown",
     "metadata": {},
     "source": [
      "<href> https://data.cityofnewyork.us/Public-Safety/NYPD-Motor-Vehicle-Collisions/h9gi-nx95</href>"
     ]
    },
    {
     "cell_type": "code",
     "collapsed": false,
     "input": [
      "# this ipython notebook might be used for data exploration \n",
      "\n",
      "import pandas as pd\n",
      "pd.set_option('display.mpl_style', 'default')\n",
      "pd.set_option('display.width', 5000) \n",
      "pd.set_option('display.max_columns', 60)\n",
      "import numpy as np\n",
      "import os"
     ],
     "language": "python",
     "metadata": {},
     "outputs": [],
     "prompt_number": 10
    },
    {
     "cell_type": "code",
     "collapsed": false,
     "input": [
      "dpath = \"./\"\n",
      "df = pd.read_csv(os.path.join(dpath,'crashdata.csv'))\n",
      "df.columns"
     ],
     "language": "python",
     "metadata": {},
     "outputs": [
      {
       "metadata": {},
       "output_type": "pyout",
       "prompt_number": 11,
       "text": [
        "Index([u'DATE', u'TIME', u'BOROUGH', u'ZIP CODE', u'LATITUDE', u'LONGITUDE', u'LOCATION', u'ON STREET NAME', u'CROSS STREET NAME', u'OFF STREET NAME', u'NUMBER OF PERSONS INJURED', u'NUMBER OF PERSONS KILLED', u'NUMBER OF PEDESTRIANS INJURED', u'NUMBER OF PEDESTRIANS KILLED', u'NUMBER OF CYCLIST INJURED', u'NUMBER OF CYCLIST KILLED', u'NUMBER OF MOTORIST INJURED', u'NUMBER OF MOTORIST KILLED', u'CONTRIBUTING FACTOR VEHICLE 1', u'CONTRIBUTING FACTOR VEHICLE 2', u'CONTRIBUTING FACTOR VEHICLE 3', u'CONTRIBUTING FACTOR VEHICLE 4', u'CONTRIBUTING FACTOR VEHICLE 5', u'UNIQUE KEY', u'VEHICLE TYPE CODE 1', u'VEHICLE TYPE CODE 2', u'VEHICLE TYPE CODE 3', u'VEHICLE TYPE CODE 4', u'VEHICLE TYPE CODE 5'], dtype='object')"
       ]
      }
     ],
     "prompt_number": 11
    },
    {
     "cell_type": "code",
     "collapsed": false,
     "input": [
      "df.groupby('CONTRIBUTING FACTOR VEHICLE 1')['CONTRIBUTING FACTOR VEHICLE 1'].count()"
     ],
     "language": "python",
     "metadata": {},
     "outputs": [
      {
       "metadata": {},
       "output_type": "pyout",
       "prompt_number": 12,
       "text": [
        "CONTRIBUTING FACTOR VEHICLE 1\n",
        "Accelerator Defective                                       259\n",
        "Aggressive Driving/Road Rage                               1716\n",
        "Alcohol Involvement                                        4522\n",
        "Animals Action                                              247\n",
        "Backing Unsafely                                          15053\n",
        "Brakes Defective                                           1492\n",
        "Cell Phone (hand-held)                                       53\n",
        "Cell Phone (hands-free)                                     129\n",
        "Driver Inattention/Distraction                            64931\n",
        "Driver Inexperience                                        6981\n",
        "Drugs (Illegal)                                             301\n",
        "Failure to Keep Right                                      1107\n",
        "Failure to Yield Right-of-Way                             23601\n",
        "Fatigued/Drowsy                                           31038\n",
        "Fell Asleep                                                 781\n",
        "Following Too Closely                                       367\n",
        "Glare                                                      1060\n",
        "Headlights Defective                                         38\n",
        "Illness                                                    1527\n",
        "Lane Marking Improper/Inadequate                            263\n",
        "Lost Consciousness                                        12836\n",
        "Obstruction/Debris                                         1073\n",
        "Other Electronic Device                                    1455\n",
        "Other Lighting Defects                                       43\n",
        "Other Vehicular                                           17205\n",
        "Outside Car Distraction                                    7245\n",
        "Oversized Vehicle                                          3299\n",
        "Passenger Distraction                                      2812\n",
        "Passing or Lane Usage Improper                              237\n",
        "Pavement Defective                                          658\n",
        "Pavement Slippery                                          7113\n",
        "Pedestrian/Bicyclist/Other Pedestrian Error/Confusion        75\n",
        "Physical Disability                                        6391\n",
        "Prescription Medication                                   10743\n",
        "Reaction to Other Uninvolved Vehicle                        977\n",
        "Shoulders Defective/Improper                                 25\n",
        "Steering Failure                                            486\n",
        "Tire Failure/Inadequate                                     503\n",
        "Tow Hitch Defective                                          62\n",
        "Traffic Control Device Improper/Non-Working                 282\n",
        "Traffic Control Disregarded                                6975\n",
        "Turning Improperly                                        13860\n",
        "Unsafe Lane Changing                                        173\n",
        "Unsafe Speed                                                584\n",
        "Unspecified                                              313282\n",
        "View Obstructed/Limited                                    2094\n",
        "Windshield Inadequate                                        31\n",
        "Name: CONTRIBUTING FACTOR VEHICLE 1, dtype: int64"
       ]
      }
     ],
     "prompt_number": 12
    },
    {
     "cell_type": "code",
     "collapsed": false,
     "input": [
      "df.groupby('CONTRIBUTING FACTOR VEHICLE 2')['CONTRIBUTING FACTOR VEHICLE 2'].count()"
     ],
     "language": "python",
     "metadata": {},
     "outputs": [
      {
       "metadata": {},
       "output_type": "pyout",
       "prompt_number": 13,
       "text": [
        "CONTRIBUTING FACTOR VEHICLE 2\n",
        "Accelerator Defective                                        22\n",
        "Aggressive Driving/Road Rage                                450\n",
        "Alcohol Involvement                                         501\n",
        "Animals Action                                               21\n",
        "Backing Unsafely                                           2445\n",
        "Brakes Defective                                            132\n",
        "Cell Phone (hand-held)                                       14\n",
        "Cell Phone (hands-free)                                      19\n",
        "Driver Inattention/Distraction                            17252\n",
        "Driver Inexperience                                        2170\n",
        "Drugs (Illegal)                                              92\n",
        "Failure to Keep Right                                       201\n",
        "Failure to Yield Right-of-Way                              4595\n",
        "Fatigued/Drowsy                                            7092\n",
        "Fell Asleep                                                 321\n",
        "Following Too Closely                                        26\n",
        "Glare                                                       168\n",
        "Headlights Defective                                         15\n",
        "Illness                                                     296\n",
        "Lane Marking Improper/Inadequate                            148\n",
        "Lost Consciousness                                         3417\n",
        "Obstruction/Debris                                          197\n",
        "Other Electronic Device                                     355\n",
        "Other Lighting Defects                                       14\n",
        "Other Vehicular                                            9933\n",
        "Outside Car Distraction                                    1480\n",
        "Oversized Vehicle                                           602\n",
        "Passenger Distraction                                       602\n",
        "Passing or Lane Usage Improper                               62\n",
        "Pavement Defective                                           71\n",
        "Pavement Slippery                                          1665\n",
        "Pedestrian/Bicyclist/Other Pedestrian Error/Confusion        14\n",
        "Physical Disability                                        1459\n",
        "Prescription Medication                                    2062\n",
        "Reaction to Other Uninvolved Vehicle                        260\n",
        "Shoulders Defective/Improper                                  5\n",
        "Steering Failure                                             37\n",
        "Tire Failure/Inadequate                                      36\n",
        "Tow Hitch Defective                                           3\n",
        "Traffic Control Device Improper/Non-Working                 169\n",
        "Traffic Control Disregarded                                1781\n",
        "Turning Improperly                                         3203\n",
        "Unsafe Lane Changing                                         34\n",
        "Unsafe Speed                                                114\n",
        "Unspecified                                              434871\n",
        "View Obstructed/Limited                                     589\n",
        "Name: CONTRIBUTING FACTOR VEHICLE 2, dtype: int64"
       ]
      }
     ],
     "prompt_number": 13
    },
    {
     "cell_type": "code",
     "collapsed": false,
     "input": [
      "df.groupby('VEHICLE TYPE CODE 1')['VEHICLE TYPE CODE 1'].count()"
     ],
     "language": "python",
     "metadata": {},
     "outputs": [
      {
       "metadata": {},
       "output_type": "pyout",
       "prompt_number": 14,
       "text": [
        "VEHICLE TYPE CODE 1\n",
        "AMBULANCE                           1589\n",
        "BICYCLE                              445\n",
        "BUS                                10331\n",
        "FIRE TRUCK                           565\n",
        "LARGE COM VEH(6 OR MORE TIRES)     10324\n",
        "LIVERY VEHICLE                      6834\n",
        "MOTORCYCLE                          3028\n",
        "OTHER                              16652\n",
        "PASSENGER VEHICLE                 311759\n",
        "PEDICAB                               18\n",
        "PICK-UP TRUCK                       8406\n",
        "SCOOTER                              236\n",
        "SMALL COM VEH(4 TIRES)              9564\n",
        "SPORT UTILITY / STATION WAGON     128679\n",
        "TAXI                               23951\n",
        "UNKNOWN                            14833\n",
        "VAN                                18709\n",
        "Name: VEHICLE TYPE CODE 1, dtype: int64"
       ]
      }
     ],
     "prompt_number": 14
    },
    {
     "cell_type": "code",
     "collapsed": false,
     "input": [
      "df.groupby('VEHICLE TYPE CODE 2')['VEHICLE TYPE CODE 2'].count()"
     ],
     "language": "python",
     "metadata": {},
     "outputs": [
      {
       "metadata": {},
       "output_type": "pyout",
       "prompt_number": 15,
       "text": [
        "VEHICLE TYPE CODE 2\n",
        "AMBULANCE                            791\n",
        "BICYCLE                            13104\n",
        "BUS                                 8419\n",
        "FIRE TRUCK                           392\n",
        "LARGE COM VEH(6 OR MORE TIRES)      9752\n",
        "LIVERY VEHICLE                      5530\n",
        "MOTORCYCLE                          2515\n",
        "OTHER                              15588\n",
        "PASSENGER VEHICLE                 238169\n",
        "PEDICAB                               68\n",
        "PICK-UP TRUCK                       7676\n",
        "SCOOTER                              148\n",
        "SMALL COM VEH(4 TIRES)              9227\n",
        "SPORT UTILITY / STATION WAGON      99784\n",
        "TAXI                               20878\n",
        "UNKNOWN                            58622\n",
        "VAN                                16853\n",
        "Name: VEHICLE TYPE CODE 2, dtype: int64"
       ]
      }
     ],
     "prompt_number": 15
    },
    {
     "cell_type": "code",
     "collapsed": false,
     "input": [
      "#normilize by square at least; population\n",
      "byboro = df.groupby('BOROUGH')\n",
      "byboro['NUMBER OF PERSONS INJURED'].count()"
     ],
     "language": "python",
     "metadata": {},
     "outputs": [
      {
       "metadata": {},
       "output_type": "pyout",
       "prompt_number": 16,
       "text": [
        "BOROUGH\n",
        "BRONX             54623\n",
        "BROOKLYN         131311\n",
        "MANHATTAN        113985\n",
        "QUEENS           110624\n",
        "STATEN ISLAND     21501\n",
        "Name: NUMBER OF PERSONS INJURED, dtype: int64"
       ]
      }
     ],
     "prompt_number": 16
    },
    {
     "cell_type": "code",
     "collapsed": false,
     "input": [
      "byboro['NUMBER OF PERSONS KILLED'].count()"
     ],
     "language": "python",
     "metadata": {},
     "outputs": [
      {
       "metadata": {},
       "output_type": "pyout",
       "prompt_number": 17,
       "text": [
        "BOROUGH\n",
        "BRONX             54623\n",
        "BROOKLYN         131311\n",
        "MANHATTAN        113985\n",
        "QUEENS           110624\n",
        "STATEN ISLAND     21501\n",
        "Name: NUMBER OF PERSONS KILLED, dtype: int64"
       ]
      }
     ],
     "prompt_number": 17
    },
    {
     "cell_type": "code",
     "collapsed": false,
     "input": [
      "#normilize by length at least; traffic\n",
      "byonstreet = df.groupby('ON STREET NAME')\n",
      "byonstreet['NUMBER OF PERSONS INJURED'].count()"
     ],
     "language": "python",
     "metadata": {},
     "outputs": [
      {
       "metadata": {},
       "output_type": "pyout",
       "prompt_number": 18,
       "text": [
        "ON STREET NAME\n",
        "1 AVENUE          1794\n",
        "1 COURT              3\n",
        "1 PLACE             20\n",
        "1 STREET            67\n",
        "10 AVENUE         1921\n",
        "10 STREET          127\n",
        "100 AVENUE          38\n",
        "100 DRIVE            4\n",
        "100 STREET         119\n",
        "101 AVENUE         513\n",
        "101 ROAD             1\n",
        "101 STREET         119\n",
        "102 AVENUE          46\n",
        "102 ROAD            17\n",
        "102 STREET         280\n",
        "...\n",
        "YELLOWSTONE BOULEVARD    332\n",
        "YETMAN AVENUE             20\n",
        "YORK AVENUE              568\n",
        "YORK STREET               40\n",
        "YORK TERRACE               2\n",
        "YOUNG AVENUE              18\n",
        "YOUNG STREET               3\n",
        "YUKON AVENUE              17\n",
        "ZEBRA PLACE                2\n",
        "ZEISER PLACE              11\n",
        "ZEREGA AVENUE            213\n",
        "ZION STREET                3\n",
        "ZOE STREET                 4\n",
        "ZOLLER ROAD                4\n",
        "ZULETTE AVENUE            28\n",
        "Name: NUMBER OF PERSONS INJURED, Length: 6593, dtype: int64"
       ]
      }
     ],
     "prompt_number": 18
    },
    {
     "cell_type": "code",
     "collapsed": false,
     "input": [
      "byonstreet['NUMBER OF PERSONS KILLED'].count()"
     ],
     "language": "python",
     "metadata": {},
     "outputs": [
      {
       "metadata": {},
       "output_type": "pyout",
       "prompt_number": 19,
       "text": [
        "ON STREET NAME\n",
        "1 AVENUE          1794\n",
        "1 COURT              3\n",
        "1 PLACE             20\n",
        "1 STREET            67\n",
        "10 AVENUE         1921\n",
        "10 STREET          127\n",
        "100 AVENUE          38\n",
        "100 DRIVE            4\n",
        "100 STREET         119\n",
        "101 AVENUE         513\n",
        "101 ROAD             1\n",
        "101 STREET         119\n",
        "102 AVENUE          46\n",
        "102 ROAD            17\n",
        "102 STREET         280\n",
        "...\n",
        "YELLOWSTONE BOULEVARD    332\n",
        "YETMAN AVENUE             20\n",
        "YORK AVENUE              568\n",
        "YORK STREET               40\n",
        "YORK TERRACE               2\n",
        "YOUNG AVENUE              18\n",
        "YOUNG STREET               3\n",
        "YUKON AVENUE              17\n",
        "ZEBRA PLACE                2\n",
        "ZEISER PLACE              11\n",
        "ZEREGA AVENUE            213\n",
        "ZION STREET                3\n",
        "ZOE STREET                 4\n",
        "ZOLLER ROAD                4\n",
        "ZULETTE AVENUE            28\n",
        "Name: NUMBER OF PERSONS KILLED, Length: 6593, dtype: int64"
       ]
      }
     ],
     "prompt_number": 19
    },
    {
     "cell_type": "code",
     "collapsed": false,
     "input": [
      "byboro_veh1 = df.groupby(['BOROUGH','VEHICLE TYPE CODE 1'])\n",
      "byboro_veh1['NUMBER OF PERSONS INJURED'].count()[['BRONX','BROOKLYN']]"
     ],
     "language": "python",
     "metadata": {},
     "outputs": [
      {
       "metadata": {},
       "output_type": "pyout",
       "prompt_number": 20,
       "text": [
        "BOROUGH   VEHICLE TYPE CODE 1           \n",
        "BRONX     AMBULANCE                           308\n",
        "          BICYCLE                              32\n",
        "          BUS                                1093\n",
        "          FIRE TRUCK                           76\n",
        "          LARGE COM VEH(6 OR MORE TIRES)      888\n",
        "          LIVERY VEHICLE                     1312\n",
        "          MOTORCYCLE                          233\n",
        "          OTHER                              1707\n",
        "          PASSENGER VEHICLE                 31757\n",
        "          PICK-UP TRUCK                       574\n",
        "          SCOOTER                              21\n",
        "          SMALL COM VEH(4 TIRES)              834\n",
        "          SPORT UTILITY / STATION WAGON     10873\n",
        "          TAXI                                983\n",
        "          UNKNOWN                            2334\n",
        "          VAN                                1509\n",
        "BROOKLYN  AMBULANCE                           360\n",
        "          BICYCLE                             163\n",
        "          BUS                                2403\n",
        "          FIRE TRUCK                          164\n",
        "          LARGE COM VEH(6 OR MORE TIRES)     2029\n",
        "          LIVERY VEHICLE                      948\n",
        "          MOTORCYCLE                          645\n",
        "          OTHER                              4813\n",
        "          PASSENGER VEHICLE                 75019\n",
        "          PICK-UP TRUCK                      1606\n",
        "          SCOOTER                              85\n",
        "          SMALL COM VEH(4 TIRES)             2068\n",
        "          SPORT UTILITY / STATION WAGON     31129\n",
        "          TAXI                               1630\n",
        "          UNKNOWN                            3724\n",
        "          VAN                                4383\n",
        "Name: NUMBER OF PERSONS INJURED, dtype: int64"
       ]
      }
     ],
     "prompt_number": 20
    },
    {
     "cell_type": "code",
     "collapsed": false,
     "input": [
      "byboro_veh1['NUMBER OF PERSONS INJURED'].count()[['MANHATTAN','STATEN ISLAND']]"
     ],
     "language": "python",
     "metadata": {},
     "outputs": [
      {
       "metadata": {},
       "output_type": "pyout",
       "prompt_number": 21,
       "text": [
        "BOROUGH        VEHICLE TYPE CODE 1           \n",
        "MANHATTAN      AMBULANCE                           447\n",
        "               BICYCLE                             139\n",
        "               BUS                                3636\n",
        "               FIRE TRUCK                          143\n",
        "               LARGE COM VEH(6 OR MORE TIRES)     2585\n",
        "               LIVERY VEHICLE                     2505\n",
        "               MOTORCYCLE                          826\n",
        "               OTHER                              4198\n",
        "               PASSENGER VEHICLE                 46116\n",
        "               PEDICAB                              15\n",
        "               PICK-UP TRUCK                      2554\n",
        "               SCOOTER                              75\n",
        "               SMALL COM VEH(4 TIRES)             3417\n",
        "               SPORT UTILITY / STATION WAGON     21119\n",
        "               TAXI                              17164\n",
        "               UNKNOWN                            2349\n",
        "               VAN                                6235\n",
        "STATEN ISLAND  AMBULANCE                            26\n",
        "               BICYCLE                               3\n",
        "               BUS                                 255\n",
        "               FIRE TRUCK                           18\n",
        "               LARGE COM VEH(6 OR MORE TIRES)       72\n",
        "               LIVERY VEHICLE                       21\n",
        "               MOTORCYCLE                           67\n",
        "               OTHER                               465\n",
        "               PASSENGER VEHICLE                 13315\n",
        "               PICK-UP TRUCK                       380\n",
        "               SCOOTER                               4\n",
        "               SMALL COM VEH(4 TIRES)               92\n",
        "               SPORT UTILITY / STATION WAGON      5964\n",
        "               TAXI                                 11\n",
        "               UNKNOWN                             429\n",
        "               VAN                                 369\n",
        "Name: NUMBER OF PERSONS INJURED, dtype: int64"
       ]
      }
     ],
     "prompt_number": 21
    },
    {
     "cell_type": "code",
     "collapsed": false,
     "input": [
      "byboro_veh1['NUMBER OF PERSONS INJURED'].count()[['QUEENS']]"
     ],
     "language": "python",
     "metadata": {},
     "outputs": [
      {
       "metadata": {},
       "output_type": "pyout",
       "prompt_number": 22,
       "text": [
        "BOROUGH  VEHICLE TYPE CODE 1           \n",
        "QUEENS   AMBULANCE                           202\n",
        "         BICYCLE                              70\n",
        "         BUS                                1473\n",
        "         FIRE TRUCK                           90\n",
        "         LARGE COM VEH(6 OR MORE TIRES)     1606\n",
        "         LIVERY VEHICLE                      712\n",
        "         MOTORCYCLE                          491\n",
        "         OTHER                              2007\n",
        "         PASSENGER VEHICLE                 66806\n",
        "         PEDICAB                               2\n",
        "         PICK-UP TRUCK                      1210\n",
        "         SCOOTER                              25\n",
        "         SMALL COM VEH(4 TIRES)             1383\n",
        "         SPORT UTILITY / STATION WAGON     27096\n",
        "         TAXI                               1383\n",
        "         UNKNOWN                            3216\n",
        "         VAN                                2774\n",
        "Name: NUMBER OF PERSONS INJURED, dtype: int64"
       ]
      }
     ],
     "prompt_number": 22
    },
    {
     "cell_type": "code",
     "collapsed": false,
     "input": [
      "factors = ['BOROUGH','WEEK','NUMBER OF PERSONS INJURED', u'NUMBER OF PERSONS KILLED', u'NUMBER OF PEDESTRIANS INJURED', u'NUMBER OF PEDESTRIANS KILLED', u'NUMBER OF CYCLIST INJURED', u'NUMBER OF CYCLIST KILLED', u'NUMBER OF MOTORIST INJURED', u'NUMBER OF MOTORIST KILLED']\n",
      "df[factors].groupby(['BOROUGH','WEEK']).count().reset_index()"
     ],
     "language": "python",
     "metadata": {},
     "outputs": [
      {
       "ename": "KeyError",
       "evalue": "\"['WEEK'] not in index\"",
       "output_type": "pyerr",
       "traceback": [
        "\u001b[1;31m---------------------------------------------------------------------------\u001b[0m\n\u001b[1;31mKeyError\u001b[0m                                  Traceback (most recent call last)",
        "\u001b[1;32m<ipython-input-23-5bd3613db8ce>\u001b[0m in \u001b[0;36m<module>\u001b[1;34m()\u001b[0m\n\u001b[0;32m      1\u001b[0m \u001b[0mfactors\u001b[0m \u001b[1;33m=\u001b[0m \u001b[1;33m[\u001b[0m\u001b[1;34m'BOROUGH'\u001b[0m\u001b[1;33m,\u001b[0m\u001b[1;34m'WEEK'\u001b[0m\u001b[1;33m,\u001b[0m\u001b[1;34m'NUMBER OF PERSONS INJURED'\u001b[0m\u001b[1;33m,\u001b[0m \u001b[1;34mu'NUMBER OF PERSONS KILLED'\u001b[0m\u001b[1;33m,\u001b[0m \u001b[1;34mu'NUMBER OF PEDESTRIANS INJURED'\u001b[0m\u001b[1;33m,\u001b[0m \u001b[1;34mu'NUMBER OF PEDESTRIANS KILLED'\u001b[0m\u001b[1;33m,\u001b[0m \u001b[1;34mu'NUMBER OF CYCLIST INJURED'\u001b[0m\u001b[1;33m,\u001b[0m \u001b[1;34mu'NUMBER OF CYCLIST KILLED'\u001b[0m\u001b[1;33m,\u001b[0m \u001b[1;34mu'NUMBER OF MOTORIST INJURED'\u001b[0m\u001b[1;33m,\u001b[0m \u001b[1;34mu'NUMBER OF MOTORIST KILLED'\u001b[0m\u001b[1;33m]\u001b[0m\u001b[1;33m\u001b[0m\u001b[0m\n\u001b[1;32m----> 2\u001b[1;33m \u001b[0mdf\u001b[0m\u001b[1;33m[\u001b[0m\u001b[0mfactors\u001b[0m\u001b[1;33m]\u001b[0m\u001b[1;33m.\u001b[0m\u001b[0mgroupby\u001b[0m\u001b[1;33m(\u001b[0m\u001b[1;33m[\u001b[0m\u001b[1;34m'BOROUGH'\u001b[0m\u001b[1;33m,\u001b[0m\u001b[1;34m'WEEK'\u001b[0m\u001b[1;33m]\u001b[0m\u001b[1;33m)\u001b[0m\u001b[1;33m.\u001b[0m\u001b[0mcount\u001b[0m\u001b[1;33m(\u001b[0m\u001b[1;33m)\u001b[0m\u001b[1;33m.\u001b[0m\u001b[0mreset_index\u001b[0m\u001b[1;33m(\u001b[0m\u001b[1;33m)\u001b[0m\u001b[1;33m\u001b[0m\u001b[0m\n\u001b[0m",
        "\u001b[1;32m/home/yanyuchka/anaconda/lib/python2.7/site-packages/pandas/core/frame.pyc\u001b[0m in \u001b[0;36m__getitem__\u001b[1;34m(self, key)\u001b[0m\n\u001b[0;32m   1670\u001b[0m         \u001b[1;32mif\u001b[0m \u001b[0misinstance\u001b[0m\u001b[1;33m(\u001b[0m\u001b[0mkey\u001b[0m\u001b[1;33m,\u001b[0m \u001b[1;33m(\u001b[0m\u001b[0mSeries\u001b[0m\u001b[1;33m,\u001b[0m \u001b[0mnp\u001b[0m\u001b[1;33m.\u001b[0m\u001b[0mndarray\u001b[0m\u001b[1;33m,\u001b[0m \u001b[0mlist\u001b[0m\u001b[1;33m)\u001b[0m\u001b[1;33m)\u001b[0m\u001b[1;33m:\u001b[0m\u001b[1;33m\u001b[0m\u001b[0m\n\u001b[0;32m   1671\u001b[0m             \u001b[1;31m# either boolean or fancy integer index\u001b[0m\u001b[1;33m\u001b[0m\u001b[1;33m\u001b[0m\u001b[0m\n\u001b[1;32m-> 1672\u001b[1;33m             \u001b[1;32mreturn\u001b[0m \u001b[0mself\u001b[0m\u001b[1;33m.\u001b[0m\u001b[0m_getitem_array\u001b[0m\u001b[1;33m(\u001b[0m\u001b[0mkey\u001b[0m\u001b[1;33m)\u001b[0m\u001b[1;33m\u001b[0m\u001b[0m\n\u001b[0m\u001b[0;32m   1673\u001b[0m         \u001b[1;32melif\u001b[0m \u001b[0misinstance\u001b[0m\u001b[1;33m(\u001b[0m\u001b[0mkey\u001b[0m\u001b[1;33m,\u001b[0m \u001b[0mDataFrame\u001b[0m\u001b[1;33m)\u001b[0m\u001b[1;33m:\u001b[0m\u001b[1;33m\u001b[0m\u001b[0m\n\u001b[0;32m   1674\u001b[0m             \u001b[1;32mreturn\u001b[0m \u001b[0mself\u001b[0m\u001b[1;33m.\u001b[0m\u001b[0m_getitem_frame\u001b[0m\u001b[1;33m(\u001b[0m\u001b[0mkey\u001b[0m\u001b[1;33m)\u001b[0m\u001b[1;33m\u001b[0m\u001b[0m\n",
        "\u001b[1;32m/home/yanyuchka/anaconda/lib/python2.7/site-packages/pandas/core/frame.pyc\u001b[0m in \u001b[0;36m_getitem_array\u001b[1;34m(self, key)\u001b[0m\n\u001b[0;32m   1714\u001b[0m             \u001b[1;32mreturn\u001b[0m \u001b[0mself\u001b[0m\u001b[1;33m.\u001b[0m\u001b[0mtake\u001b[0m\u001b[1;33m(\u001b[0m\u001b[0mindexer\u001b[0m\u001b[1;33m,\u001b[0m \u001b[0maxis\u001b[0m\u001b[1;33m=\u001b[0m\u001b[1;36m0\u001b[0m\u001b[1;33m,\u001b[0m \u001b[0mconvert\u001b[0m\u001b[1;33m=\u001b[0m\u001b[0mFalse\u001b[0m\u001b[1;33m)\u001b[0m\u001b[1;33m\u001b[0m\u001b[0m\n\u001b[0;32m   1715\u001b[0m         \u001b[1;32melse\u001b[0m\u001b[1;33m:\u001b[0m\u001b[1;33m\u001b[0m\u001b[0m\n\u001b[1;32m-> 1716\u001b[1;33m             \u001b[0mindexer\u001b[0m \u001b[1;33m=\u001b[0m \u001b[0mself\u001b[0m\u001b[1;33m.\u001b[0m\u001b[0mix\u001b[0m\u001b[1;33m.\u001b[0m\u001b[0m_convert_to_indexer\u001b[0m\u001b[1;33m(\u001b[0m\u001b[0mkey\u001b[0m\u001b[1;33m,\u001b[0m \u001b[0maxis\u001b[0m\u001b[1;33m=\u001b[0m\u001b[1;36m1\u001b[0m\u001b[1;33m)\u001b[0m\u001b[1;33m\u001b[0m\u001b[0m\n\u001b[0m\u001b[0;32m   1717\u001b[0m             \u001b[1;32mreturn\u001b[0m \u001b[0mself\u001b[0m\u001b[1;33m.\u001b[0m\u001b[0mtake\u001b[0m\u001b[1;33m(\u001b[0m\u001b[0mindexer\u001b[0m\u001b[1;33m,\u001b[0m \u001b[0maxis\u001b[0m\u001b[1;33m=\u001b[0m\u001b[1;36m1\u001b[0m\u001b[1;33m,\u001b[0m \u001b[0mconvert\u001b[0m\u001b[1;33m=\u001b[0m\u001b[0mTrue\u001b[0m\u001b[1;33m)\u001b[0m\u001b[1;33m\u001b[0m\u001b[0m\n\u001b[0;32m   1718\u001b[0m \u001b[1;33m\u001b[0m\u001b[0m\n",
        "\u001b[1;32m/home/yanyuchka/anaconda/lib/python2.7/site-packages/pandas/core/indexing.pyc\u001b[0m in \u001b[0;36m_convert_to_indexer\u001b[1;34m(self, obj, axis, is_setter)\u001b[0m\n\u001b[0;32m   1083\u001b[0m                     \u001b[1;32mif\u001b[0m \u001b[0misinstance\u001b[0m\u001b[1;33m(\u001b[0m\u001b[0mobj\u001b[0m\u001b[1;33m,\u001b[0m \u001b[0mtuple\u001b[0m\u001b[1;33m)\u001b[0m \u001b[1;32mand\u001b[0m \u001b[0mis_setter\u001b[0m\u001b[1;33m:\u001b[0m\u001b[1;33m\u001b[0m\u001b[0m\n\u001b[0;32m   1084\u001b[0m                         \u001b[1;32mreturn\u001b[0m \u001b[1;33m{\u001b[0m\u001b[1;34m'key'\u001b[0m\u001b[1;33m:\u001b[0m \u001b[0mobj\u001b[0m\u001b[1;33m}\u001b[0m\u001b[1;33m\u001b[0m\u001b[0m\n\u001b[1;32m-> 1085\u001b[1;33m                     \u001b[1;32mraise\u001b[0m \u001b[0mKeyError\u001b[0m\u001b[1;33m(\u001b[0m\u001b[1;34m'%s not in index'\u001b[0m \u001b[1;33m%\u001b[0m \u001b[0mobjarr\u001b[0m\u001b[1;33m[\u001b[0m\u001b[0mmask\u001b[0m\u001b[1;33m]\u001b[0m\u001b[1;33m)\u001b[0m\u001b[1;33m\u001b[0m\u001b[0m\n\u001b[0m\u001b[0;32m   1086\u001b[0m \u001b[1;33m\u001b[0m\u001b[0m\n\u001b[0;32m   1087\u001b[0m                 \u001b[1;32mreturn\u001b[0m \u001b[0mindexer\u001b[0m\u001b[1;33m\u001b[0m\u001b[0m\n",
        "\u001b[1;31mKeyError\u001b[0m: \"['WEEK'] not in index\""
       ]
      }
     ],
     "prompt_number": 23
    }
   ],
   "metadata": {}
  }
 ]
}